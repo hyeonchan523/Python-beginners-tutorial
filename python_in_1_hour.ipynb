{
  "nbformat": 4,
  "nbformat_minor": 0,
  "metadata": {
    "colab": {
      "private_outputs": true,
      "provenance": [],
      "authorship_tag": "ABX9TyPKYQOSmhRs2cOjnqmDSAUD",
      "include_colab_link": true
    },
    "kernelspec": {
      "name": "python3",
      "display_name": "Python 3"
    },
    "language_info": {
      "name": "python"
    }
  },
  "cells": [
    {
      "cell_type": "markdown",
      "metadata": {
        "id": "view-in-github",
        "colab_type": "text"
      },
      "source": [
        "<a href=\"https://colab.research.google.com/github/hyeonchan523/Python-beginners-tutorial/blob/main/python_in_1_hour.ipynb\" target=\"_parent\"><img src=\"https://colab.research.google.com/assets/colab-badge.svg\" alt=\"Open In Colab\"/></a>"
      ]
    },
    {
      "cell_type": "markdown",
      "source": [
        "# 1. Console창 Input/Output\n",
        "\n",
        "프로그램 실행 후 console 창에서 user의 입력을 받거나 프로그램 출력하는 방법은 다음 명령어를 사용한다.\n",
        "\n",
        "- `x = input(\"cmd에 보여질 text\")` : console 창에 \"cmd에 보여질 text\"가 출력되고, 입력된 데이터는 string(문자열) 형태로 변수에 저장된다.\n",
        "- `print(variables)` :  print의 인자로 입력된 복수의 데이터를 console 상에 출력하고, 한줄 바꿈(\\n)된다. `end`인자를 입력해주면 줄 바꿈 대신 다른 문자를 넣을 수 있다.\n",
        "\n",
        "\n",
        " cf) 문자열 데이터는 따옴표(\")나 작은 따옴표(')로 감싸주면 문자열로 인식한다."
      ],
      "metadata": {
        "id": "BTmzmlracCd4"
      }
    },
    {
      "cell_type": "markdown",
      "source": [
        "```python\n",
        "print(\"hello world\") # hello world\n",
        "\n",
        "print(1,2) # 1 2\n",
        "\n",
        "print(1.2, end = '')\n",
        "print('next line')\n",
        "# 1.2next line\n",
        "```"
      ],
      "metadata": {
        "id": "pEzY3ZOkfAMM"
      }
    },
    {
      "cell_type": "markdown",
      "source": [
        "---"
      ],
      "metadata": {
        "id": "kNA2zdcLdfXG"
      }
    },
    {
      "cell_type": "markdown",
      "source": [
        "# 2. 변수와 연산자\n",
        "## 변수\n",
        "python에서 변수는 데이터를 저장하는데 사용된다. 등호(=)가 변수에 값을 할당하는데 사용이 된다. 변수 명을 정할 때 다음과 같은 규칙이 있다.\n",
        "\n",
        "    1. 숫자는 가장 앞에 올 수 없다.\n",
        "    2. 변수명에 '-'는 쓸 수 없다.\n",
        "    3. 띄어쓰기는 쓸 수 없다.\n",
        "    4. 특수문자를 쓸 수 없다.\n",
        "    5. python의 문법 예약어는 사용할 수 없다.\n",
        "\n",
        "단일 built-in data type은 정수형, 실수형, 문자열, boolean 등이 있고, 복수의 데이터를 담을 수 있는 자료 구조로는 list, tuple, set, dictionary 등이 있다."
      ],
      "metadata": {
        "id": "xwCnRGeCeGz-"
      }
    },
    {
      "cell_type": "markdown",
      "source": [
        "```python\n",
        "# int \n",
        "1\n",
        "2\n",
        "\n",
        "# float\n",
        "1.0\n",
        "2.4\n",
        "\n",
        "# string\n",
        "\"문자열\"\n",
        "'문자열'\n",
        "\n",
        "# bool\n",
        "True\n",
        "False\n",
        "\n",
        "x = 1   # x는 1의 값을 가짐\n",
        "y = 2.2 # y는 2.2의 실수 값을 가짐\n",
        "```"
      ],
      "metadata": {
        "id": "zmnN2m4eeqbz"
      }
    },
    {
      "cell_type": "markdown",
      "source": [
        "ex 2-1) x에 입력으로 Hello world를 받아 print문으로 출력해보자."
      ],
      "metadata": {
        "id": "DxJGEOy6dRwC"
      }
    },
    {
      "cell_type": "code",
      "source": [
        "x = input()\n",
        "print(x)"
      ],
      "metadata": {
        "id": "eplOyzRXdQff"
      },
      "execution_count": null,
      "outputs": []
    },
    {
      "cell_type": "markdown",
      "source": [
        "ex 2-2) x와 y를 입력받아 한 줄에 출력하는 프로그램을 작성해보자. console 창에서 x에 입력 받을 때는 `x :`, y에 입력 받을 떄는 `y : `를 출력한다."
      ],
      "metadata": {
        "id": "Gl6kIvGcdmzY"
      }
    },
    {
      "cell_type": "code",
      "source": [
        "x = input(\"x :\")\n",
        "y = input(\"y :\")\n",
        "print(x,y)"
      ],
      "metadata": {
        "id": "HqkoIz_SdmEN"
      },
      "execution_count": null,
      "outputs": []
    },
    {
      "cell_type": "markdown",
      "source": [
        "ex 2-3) 사람의 이름과 나이를 입력 받아 다음과 같은 양식으로 출력하는 코드를 작성해라.\n",
        "\n",
        "\"안녕하세요, xx 살 000 님. 반갑습니다!\""
      ],
      "metadata": {
        "id": "IqBTD0eZgI9n"
      }
    },
    {
      "cell_type": "code",
      "source": [
        "name = input(\"name\")\n",
        "age = input(\"age\")\n",
        "\n",
        "print(\"안녕하세요,\", age,'살', name,'님.', '반갑습니다!')"
      ],
      "metadata": {
        "id": "zDW766XjgQUM"
      },
      "execution_count": null,
      "outputs": []
    },
    {
      "cell_type": "markdown",
      "source": [
        "---\n",
        "## 연산자\n",
        "### 산술 연산자\n",
        "수를 계산할 수 있는 연산자는 다음과 같다. 나눗셈의 종류가 3 종류인 점에 주목한다.\n",
        "\n",
        "| 연산자 | 기능 | 설명 |\n",
        "| --- | --- | --- |\n",
        "| + | 더하기 | 숫자는 덧셈 수행하고 mutable한 sequence자료형(strings와 list)은 이어붙이기 |\n",
        "| \\- | 빼기 | 숫자 형태의 자료형의 뺄샘 |\n",
        "| \\* | 곱하기 | 숫자는 곱셈을 수행하고, strings나 list는 배수 만큼 복사 후 이어 붙이기 |\n",
        "| / | 나누기 | 숫자 형태의 자료형의 나눗셈 결과 |\n",
        "| // | 몫 나누기 | 숫자 형태의 자료형의 나눗셈의 몫을 반환 |\n",
        "| % | 나머지 나누기 | 숫자 형태의 자료형의 나눗셈의 나머지를 반환 |\n",
        "| \\*\\* | 제곱 | `x\\*\\*a`일 때 x의 a승 값을 반환 |\n",
        "\n",
        "```python\n",
        "a = 1 + 2 # 3 (int)\n",
        "b = 1 + 2.0 # 3.0 (float)\n",
        "c = 10/2 # 5.0 (float)\n",
        "d = 10//2 # 5 (int)\n",
        "e = 10%2 # 0 (int)\n",
        "\n",
        "number = int(input()) #만약 숫자를 입력받기 위해선 `int`로 형변환 필요\n",
        "```"
      ],
      "metadata": {
        "id": "3R0t4fGrgqg4"
      }
    },
    {
      "cell_type": "markdown",
      "source": [
        "ex 2-4) x에 관한 함수 $f(x) = x^2 + 2x +4$를 계산해 출력할 수 있는 프로그램을 작성하라. (x는 user의 입력, 실수값)"
      ],
      "metadata": {
        "id": "AUT2YkzAhyH6"
      }
    },
    {
      "cell_type": "code",
      "source": [
        "x = float(input())\n",
        "print(x**2+2*x+4)"
      ],
      "metadata": {
        "id": "TG9ZX-q5iIEQ"
      },
      "execution_count": null,
      "outputs": []
    },
    {
      "cell_type": "markdown",
      "source": [
        "ex 2-5) AI type 계기의 제한 범위가 -40, 60일때, 전류 I값을 받아 출력값을 계산하는 프로그램을 작성해라"
      ],
      "metadata": {
        "id": "_3mJ2OHKjSn4"
      }
    },
    {
      "cell_type": "code",
      "source": [
        "I = float(input())\n",
        "output = -60 + (I-4)/(20-4) * (60 - (-60))\n",
        "print(output)"
      ],
      "metadata": {
        "id": "PHgTzP40jSVs"
      },
      "execution_count": null,
      "outputs": []
    },
    {
      "cell_type": "markdown",
      "source": [
        "### 비교 연산자\n",
        "값의 동일함이나 대소 비교를 할 수 있는 연산자를 비교 연산자라고 한다. 비교 연산자의 결과는 조건을 만족할 때 `True`, 만족하지 않을 때 `False`를 반환한다.\n",
        "\n",
        "| 연산자 | 기능 |\n",
        "| --- | --- |\n",
        "| \\== | 값이 같음 |\n",
        "| != | 값이 다름 |\n",
        "| \\> | 왼쪽 값이 더 큼 |\n",
        "| < | 오른쪽 값이 더 큼 |\n",
        "| \\>= | 왼쪽 값이 더 크거나 같음 |\n",
        "| <= | 오른쪽 값이 더 크거나 같음 |\n"
      ],
      "metadata": {
        "id": "qvFs9qsqhtvM"
      }
    },
    {
      "cell_type": "markdown",
      "source": [
        "```python\n",
        "1 == 1 # True\n",
        "1.0 == 1 # True\n",
        "2 != 1 # True\n",
        "2 > 1 # False\n",
        "\n",
        "\"a\" == 'a' #True\n",
        "\"a\" < \"b\" #True\n",
        "```\n",
        "\n"
      ],
      "metadata": {
        "id": "0PnI4acwhxpQ"
      }
    },
    {
      "cell_type": "markdown",
      "source": [
        "ex 2-6) '삼123성!'이 입력되었는지 확인하는 프로그램을 작성하라."
      ],
      "metadata": {
        "id": "YM0SjZp7mWEy"
      }
    },
    {
      "cell_type": "code",
      "source": [
        "x = input(\"input : \")\n",
        "result = x == '삼123성!'\n",
        "print(result)"
      ],
      "metadata": {
        "id": "hdt7VrOxleWO"
      },
      "execution_count": null,
      "outputs": []
    },
    {
      "cell_type": "markdown",
      "source": [
        "### 논리 연산자\n",
        "논리 연산자는 Boolean 형태로 정리되는 조건문을 연결하기 위해 사용한다. 이를 활용해 복잡한 조건을 처리할 수 있다.\n",
        "\n",
        "| 연산자 | 기능 |\n",
        "| --- | --- |\n",
        "| and | 모두 참이면 True 반환 |\n",
        "| or | 하나라도 참이면 True 반환 |\n",
        "| not | True를 False로, False를 True로 변환 |"
      ],
      "metadata": {
        "id": "QMZ0tzhrhv6g"
      }
    },
    {
      "cell_type": "markdown",
      "source": [
        "ex 2-7) ID가 `samsung`, password가 `samsung123`일 때 로그인 성공 여부를 확인하는 프로그램을 작성하라."
      ],
      "metadata": {
        "id": "NnWxUuAVm1fJ"
      }
    },
    {
      "cell_type": "code",
      "source": [
        "ID = input('ID')\n",
        "PWD = input('PWD')\n",
        "result = ID == 'samsung' and PWD == 'samsung123'\n",
        "print(result)"
      ],
      "metadata": {
        "id": "twGc0RnWmyG8"
      },
      "execution_count": null,
      "outputs": []
    },
    {
      "cell_type": "markdown",
      "source": [
        "# 3. 프로그램 제어 문법\n",
        "여기서 말하는 제어 문법은 1)조건문과 2)반복문이다. 적절한 조건문을 활용해 수행할 작업을 구분할 수 있고, 반복문을 통해 동일하거나 유사한 작업을 짧은 코드로 처리할 수 있다.  \n",
        "같은 indent 단계를 가진 몇 줄의 코드를 코드 블럭이라고 하겠다.\n",
        "\n",
        "## 조건문\n",
        "조건문은 조건에 따라 수행할 코드 블럭을 설정하는 역할을 한다. python에서는 `if`, `elif`와 `else`가 있다. 기본적인 구조는 다음과 같다.\n",
        "\n",
        "```python \n",
        "if (조건1)\n",
        "    #block 1 (조건1 만족 시 실행)\n",
        "elif(조건 2)\n",
        "    #block 2 (조건2 만족 시 실행)\n",
        "...\n",
        "elif(조건 n)\n",
        "    #block n (조건n 만족 시 실행)\n",
        "else:\n",
        "    #모든 조건 만족하지 않을 때 실행\n",
        "```\n",
        "`elif`나 `else`는 상황에 따라 생략할 수 있다."
      ],
      "metadata": {
        "id": "D60rfKkwndpI"
      }
    },
    {
      "cell_type": "markdown",
      "source": [
        "ex 3-1) 점수를 입력 받아 90점 이상 A, 80점 이상 B, 70점 이상 C를 출력하고 그 이하는 F를 출력하는 프로그램을 작성하라."
      ],
      "metadata": {
        "id": "wepMN-OgpFvK"
      }
    },
    {
      "cell_type": "code",
      "source": [
        "#0\n",
        "grade = float(input())\n",
        "\n",
        "if grade > 90 :\n",
        "    result = 'A'\n",
        "elif grade > 80:\n",
        "    result = 'B'\n",
        "elif grade > 80:\n",
        "    result = 'C'\n",
        "else :\n",
        "    result = 'F'\n",
        "print(result)"
      ],
      "metadata": {
        "id": "CU-USWnQptnV"
      },
      "execution_count": null,
      "outputs": []
    },
    {
      "cell_type": "code",
      "source": [
        "#1\n",
        "grade = float(input())\n",
        "\n",
        "result = 'F'\n",
        "if grade > 90 :\n",
        "    result = 'A'\n",
        "elif grade > 80:\n",
        "    result = 'B'\n",
        "elif grade > 80:\n",
        "    result = 'C'\n",
        "\n",
        "print(result)"
      ],
      "metadata": {
        "id": "BPUCc_Vugjmg"
      },
      "execution_count": null,
      "outputs": []
    },
    {
      "cell_type": "code",
      "source": [
        "#2\n",
        "grade = float(input())\n",
        "\n",
        "result = 'F'\n",
        "if grade > 90 :\n",
        "    result = 'A'\n",
        "if grade > 80:\n",
        "    result = 'B'\n",
        "if grade > 80:\n",
        "    result = 'C'\n",
        "\n",
        "print(result)"
      ],
      "metadata": {
        "id": "_42X5EkXpgxV"
      },
      "execution_count": null,
      "outputs": []
    },
    {
      "cell_type": "markdown",
      "source": [
        "ex 3-2) 0 또는 1 값을 가질 수 있는 command와 feedback 변수를 입력 받아 command가 0이면서 feedback이 1인 경우 'OFF COM', commnad가 1이면서 feedback이 0인 경우 'ON COM', 그 외의 경우는 'OK'를 출력하는 프로그램을 작성하라."
      ],
      "metadata": {
        "id": "Ez3RV0X5pzIx"
      }
    },
    {
      "cell_type": "code",
      "source": [
        "# 1\n",
        "command = input('command')\n",
        "feedback = input('feedback')\n",
        "\n",
        "result = 'OK'\n",
        "if command == '0':\n",
        "    if feedback == '1':\n",
        "        result = 'OFF COM'\n",
        "else:\n",
        "    if feedback == '0':\n",
        "        result = 'ON COM'\n",
        "\n",
        "print(result)"
      ],
      "metadata": {
        "id": "dqKTmbkyqq9w"
      },
      "execution_count": null,
      "outputs": []
    },
    {
      "cell_type": "code",
      "source": [
        "# 2\n",
        "command = input('command')\n",
        "feedback = input('feedback')\n",
        "\n",
        "result = 'OK'\n",
        "if command != feedback:\n",
        "    if command == '0':\n",
        "        result = 'OFF COM'\n",
        "    else:\n",
        "        result = 'ON COM'\n",
        "\n",
        "print(result)\n"
      ],
      "metadata": {
        "id": "HHrw8BAKrAz5"
      },
      "execution_count": null,
      "outputs": []
    },
    {
      "cell_type": "markdown",
      "source": [
        "## 반복문\n",
        "반복문은 같은 코드 블럭을 특정 조건을 만족할 때 까지 반복 실행하도록 명령하는 구문이다. python은 while문과 for문을 가지고 있다.\n",
        "\n",
        "### while문\n",
        "while문은 주어진 조건을 만족하는 동안 코드 블럭을 반복 실행한다.\n",
        "```python\n",
        "while 조건:\n",
        "    # block (조건이 True일 때 실행한다)\n",
        "```\n",
        "\n",
        "### for문\n",
        "for문은 반복 횟수를 알고 있을 때나 sequence 형태의 자료형(strings, list, tuple, dict 등)에서 순차적으로 하나의 요소를 반환받아 프로그램을 수행하는 데 사용된다. `range(start, end, interval)`과 함께 쓰여 숫자를 할당할 수 있고, `enumerate`와 `zip`을 사용해 조금 더 python스러운 프로그램을 작성할 수 있다.  \n",
        "시간 관계상 `enumerate`와 `zip`은 자습하도록 하자. (중요함.. 구글링하면 많이 나옴..)\n",
        "\n",
        "```python\n",
        "for i in range(0, 10, 2):\n",
        "    print(i)\n",
        "#0, 2, 4, 6, 8 (end는 포함 안함)\n",
        "```\n",
        "\n",
        "### 반복문 중단 break와 continue\n",
        "특정 조건에 따라 반복문 실행을 중단시키거나 한번의 반복을 건너 뛸 수 있다.\n",
        "\n",
        "`break` : 이후 모든 반복을 중단하고 반복문을 탈출한다.  \n",
        "`continue` : 한 번의 반복을 중단하고 다음 반복으로 넘어간다.  \n",
        "\n",
        "```python\n",
        "for i in range(5):\n",
        "    if i == 3:\n",
        "        break\n",
        "    print(i)\n",
        "# 3일 때 반복문을 중단.\n",
        "# >> 0, 1, 2 \n",
        "\n",
        "for i in range(5):\n",
        "    if i == 3:\n",
        "        continue\n",
        "    print(i)\n",
        "# 3일 때 한 번의 반복만 건너 뜀.\n",
        "# >> 0, 1, 2, 4\n",
        "\n",
        "```"
      ],
      "metadata": {
        "id": "R-AT2se8rT0x"
      }
    },
    {
      "cell_type": "markdown",
      "source": [
        "ex 3-3) 0부터 10까지 출력하는 프로그램을 작성해라.(for문, while문 각각 사용해보기)\n"
      ],
      "metadata": {
        "id": "q0QGPKwn0Ha6"
      }
    },
    {
      "cell_type": "code",
      "source": [
        "for i in range(1,11):\n",
        "    print(i)"
      ],
      "metadata": {
        "id": "6igE6RzJr365"
      },
      "execution_count": null,
      "outputs": []
    },
    {
      "cell_type": "code",
      "source": [
        "number = 1\n",
        "while number <=10 :\n",
        "    print(number)\n",
        "    number += 1"
      ],
      "metadata": {
        "id": "9lonyzbh0VVH"
      },
      "execution_count": null,
      "outputs": []
    },
    {
      "cell_type": "markdown",
      "source": [
        "ex 3-4) 1부터 10까지 수 중 짝수만 출력하는 프로그램"
      ],
      "metadata": {
        "id": "4In87CiP0DTQ"
      }
    },
    {
      "cell_type": "code",
      "source": [
        "for i in range(2, 11, 2):\n",
        "    print(i)\n"
      ],
      "metadata": {
        "id": "luy87_94Yahx"
      },
      "execution_count": null,
      "outputs": []
    },
    {
      "cell_type": "code",
      "source": [
        "number = 1\n",
        "while number <10:\n",
        "    if number %2 == 0:\n",
        "        print(number)\n",
        "    number += 1"
      ],
      "metadata": {
        "id": "0MCsTPWhaROQ"
      },
      "execution_count": null,
      "outputs": []
    },
    {
      "cell_type": "markdown",
      "source": [
        "# 4. 자료 구조\n",
        "Python에서 복수의 데이터를 담을 수 있는 자료구조(`list`, `tuple`과 `dictionary`)를 자료 구조학습한다.\n",
        "\n",
        "## List \n",
        "List는 순서가 있는 object의 집합이다. List에는 정수, 실수, 문자열, 다른 list, 함수, 클래스 등 python에 존재하는 모든 type을 담을 수 있다. 깊이 고민하지 않고 사용할 수 있고 수정 가능한 자료 구조이기 때문에 가장 활용도가 높다고 할 수 있다.  \n",
        "List는 대괄호로 정의한다.\n",
        "\n",
        "```python\n",
        "list_example = [1, 2, \"name\", 7.18, [7,8,9]]\n",
        "```\n",
        "\n",
        "복수의 자료를 담은 구조에서 일부를 가져오는 것을 슬라이싱(slicing)이라고 하는데 대괄호와 index로 slicing할 수 있다. 그리고 데이터를 추가(`append`)하거나 제거(`remove`) 하는 method가 존재해 쉽게 데이터를 추가/제거 할 수 있다.\n",
        "\n",
        "```python\n",
        "print(my_list[0, 3]) #output : [2, 7.18]\n",
        "print(my_list[1:3]) #output : [2, \"name\"] (마지막 index는 포함x)\n",
        "\n",
        "my_list.append(10) # my_list의 마지막에 10 추가\n",
        "my_list.remove(\"name\") # my_list의 \"name\" 데이터 삭제\n",
        "```\n",
        "\n",
        "## Tuple\n",
        "Tuple은 list와 거의 동일한 자료 구조이지만 수정이 불가능 한 자료형이라는 점에 차이가 있다. list와 같은 방법으로 수정 시도 시 수정되는 것 처럼 보이지만 내부적으로는 수정하는 것이 아니라 새로운 tuple을 만드는 것으로 비효율적이다. 지금까지 tuple을 써야만 하는 상황은 겪어본 적이 없다. List를 사용하도록 하자.\n",
        "Tuple은 소괄호로 정의한다. \n",
        "\n",
        "```python\n",
        "tuple_example = (1,2,3, \"name\",(4,5,6))\n",
        "print(tuple_example[1:3]) #output : (2,3)\n",
        "```\n",
        "\n",
        "## Set\n",
        "Set은 유일한 값을 갖는 순서가 없고 수정 가능한 데이터 구조이다. 집합은 중괄호 {}를 사용해 정의한다. 집합은 다른 sequnce 데이터의 중복을 제거한 유일한 요소를 확인할 때 사용하거나 집합 연산을 수행하기 위해 사용할 수 있다.\n",
        "```python\n",
        "set_example = {1,2,3,4}\n",
        "```\n",
        "\n",
        "## Dictionary\n",
        "Dictionary는 set과 유사하게 순서가 없는 데이터 집합이다. Dictionary는 `key-value` 페어로 구성되어있고, 유일한 key를 사용해 value에 접근할 수 있다. Dictionary는 수정가능하고 key를 사용하는 접근 방식이 매우 효율적이다\n",
        "```python\n",
        "dict_example = {'a' : 1, 'b' : 2, 'c' : 3}\n",
        "```"
      ],
      "metadata": {
        "id": "RviW7iP1bV5U"
      }
    },
    {
      "cell_type": "markdown",
      "source": [
        "ex 4-1) 사용자에게 정수 x를 입력받아 1부터 x까지 정수를 포함하는 리스트를 생성하고 출력하라. 만약 1이하의 x가 입력으로 주어진 경우 \"error\"를 출력하라."
      ],
      "metadata": {
        "id": "Oa_hUxWseRy-"
      }
    },
    {
      "cell_type": "code",
      "source": [
        "x = int(input())\n",
        "if x <=1:\n",
        "    print('error')\n",
        "else:\n",
        "    my_list = []\n",
        "    for i in range(1, x+1):\n",
        "        my_list.append(i)   \n",
        "    print(my_list)"
      ],
      "metadata": {
        "id": "8jdjpJljaYZI"
      },
      "execution_count": null,
      "outputs": []
    },
    {
      "cell_type": "markdown",
      "source": [
        "ex 4-2) x = [100, 103, 106, 105, 111, 112, 110, 115, 120, 121] 중 110 초과 하는 요소의 index를 가지는 list y를 생성하는 프로그램을 작성하라. (list x는 복사해서 사용)"
      ],
      "metadata": {
        "id": "qhQNx5dSkG46"
      }
    },
    {
      "cell_type": "code",
      "source": [
        "x = [100, 103, 106, 105, 111, 112, 110, 115, 120, 121]\n",
        "y = []\n",
        "for i in range(len(x)):\n",
        "    if i > 110:\n",
        "        y.append(i)"
      ],
      "metadata": {
        "id": "_uqa80ivhFvR"
      },
      "execution_count": null,
      "outputs": []
    },
    {
      "cell_type": "code",
      "source": [
        "x = [100, 103, 106, 105, 111, 112, 110, 115, 120, 121]\n",
        "y = []\n",
        "for i in x:\n",
        "    if i > 110:\n",
        "        y.append(i)"
      ],
      "metadata": {
        "id": "gjaUxchinWk_"
      },
      "execution_count": null,
      "outputs": []
    },
    {
      "cell_type": "markdown",
      "source": [
        "ex 4-3) T = [99,95,97,99,101,103,102,100, 96,93]에서 x 이상의 값의 수를 세는 프로그램을 작성하라. x는 사용자 입력을 받는다."
      ],
      "metadata": {
        "id": "82vu8xTRnnPA"
      }
    },
    {
      "cell_type": "code",
      "source": [
        "T = [99,95,97,99,101,103,102,100, 96,93]\n",
        "\n",
        "x = int(input(\"x : \"))\n",
        "cnt = 0\n",
        "for i in range(len(T)):\n",
        "    if T[i] >= x:\n",
        "        cnt += 1\n",
        "print(cnt)"
      ],
      "metadata": {
        "id": "bengMcE8nW0u"
      },
      "execution_count": null,
      "outputs": []
    },
    {
      "cell_type": "code",
      "source": [
        "T = [99,95,97,99,101,103,102,100, 96,93]\n",
        "\n",
        "x = int(input(\"x : \"))\n",
        "cnt = 0\n",
        "for t in T:\n",
        "    if t >= x:\n",
        "        cnt += 1\n",
        "print(cnt)"
      ],
      "metadata": {
        "id": "kfnlkC676QHc"
      },
      "execution_count": null,
      "outputs": []
    },
    {
      "cell_type": "markdown",
      "source": [
        "ex 4-4) name을 입력받아 그 값이 '김'이면 0, '이'면 1, '박'이면 2를 출력하는 프로그램을 작성하라."
      ],
      "metadata": {
        "id": "RhNWxN797mNl"
      }
    },
    {
      "cell_type": "code",
      "source": [
        "name = input('name : ')\n",
        "\n",
        "if name == '김':\n",
        "    print(0)\n",
        "elif name == '이':\n",
        "    print(1)\n",
        "elif name == '박':\n",
        "    print(2)"
      ],
      "metadata": {
        "id": "A096Qfxt7Pnp"
      },
      "execution_count": null,
      "outputs": []
    },
    {
      "cell_type": "code",
      "source": [
        "name = input('name : ')\n",
        "name_dict = {'김' : 0,\n",
        "             '이' : 1,\n",
        "             '박' : 2}\n",
        "\n",
        "print(name_dict[name])"
      ],
      "metadata": {
        "id": "nOkQJb6X8OlX"
      },
      "execution_count": null,
      "outputs": []
    },
    {
      "cell_type": "markdown",
      "source": [
        "ex 4-5) L1 = [1,1,2,3,4,4,3,3,2,1]에서 중복을 제거한 list L2를 만드는 프로그램을 작성하라."
      ],
      "metadata": {
        "id": "U9TMgIx68kSe"
      }
    },
    {
      "cell_type": "code",
      "source": [
        "L1 = [1,1,2,3,4,4,3,3,2,1]\n",
        "\n",
        "L2 = list(set(L1))"
      ],
      "metadata": {
        "id": "qysyyPDT8YkD"
      },
      "execution_count": null,
      "outputs": []
    },
    {
      "cell_type": "code",
      "source": [
        "L1 = [1,1,2,3,4,4,3,3,2,1]\n",
        "L2 = []\n",
        "\n",
        "for i in L1:\n",
        "    if i in L2:\n",
        "        continue\n",
        "    L2.append(i)"
      ],
      "metadata": {
        "id": "kCje3Xqx8uvH"
      },
      "execution_count": null,
      "outputs": []
    },
    {
      "cell_type": "markdown",
      "source": [
        "# 5. 함수\n",
        "\n",
        "함수는 프로그래밍의 key concept 중 하나로 반복 사용 될 코드 블럭을 미리 정의해 프로그램에서 반복해 사용할 수 있도록 하는 concept이다. 모든 프로그래밍 언어에도 존재하는 개념으로 python에서는 def 키워드를 사용해 함수를 정의한다.  \n",
        "함수는 입력을 받을 수 있고, 함수 내에 작성된 코드를 수행해 입력에 따른 결과를 반환한다. 경우에 따라 입력, 출력이 없는 경우도 있다.\n",
        "\n",
        "## 함수의 정의\n",
        "위에서 설명한 것과 같이 함수는 인자를 전달해 어떤 code block에 의한 처리로 결과 값을 반환한다. 인자와 반환 값은 모두 생략될 수 있지만 함수의 call(불러와 쓰이는 것을 call이라 함.)에 의해 수행되는 code block은 반드시 필요하다.  \n",
        "함수는 아래와 같은 구조를 가진다.\n",
        "\n",
        "```python  \n",
        "\n",
        "def fn_name(variables):\n",
        "    #code blocks\n",
        "    return output\n",
        "```\n",
        "\n",
        "아주 간단한 함수로 두 수(int 혹은 float)을 인자로 받아 두 값을 더한 값을 반환하는 함수는 다음과 같이 작성할 수 있다. `b=4`는 만약 하나의 인자만 함수에 전달될 경우 b의 default 값을 4로 정의한다는 의미이다.\n",
        "\n",
        "```python\n",
        "def add_numbers(a, b= 4):\n",
        "    return a+b\n",
        "```\n",
        "\n",
        "## 함수 호출(function call)\n",
        "이미 정의된 함수를 사용하는 것을 함수 호출이라고 부른다. 번역된 호출이라는 말 보다는 함수를 call한다고 표현하는 경우가 더 많은 것 같다. 함수를 call할 때는 순서에 따라 paramter를 모두 입력해주어야 한다. 이 때 실제로 전달되는 값을 argument라고 한다. 아래의 예는 add_numbesr의 paramter x, y에 각각 3과 4를 입력해 함수 call하는 예시이다.\n",
        "```python\n",
        "result = add_numbers(3,4) # result = 7\n",
        "result1 = add_numbers(3) # result = 7 (b의 초기값은 4)\n",
        "```\n",
        "\n",
        "## variable scope\n",
        "변수는 선언된 위치에 따라 생존하는 영역이 다르다. variable scope를 이해하는 첫 걸음은 global변수와 local변수를 구분하는 것이다. global 변수는 main 프로그램에서 선언되어 어디에서든 존재하는 변수고, local 변수는 함수 내에서 선언되고 함수 내 코드 블럭 수행이 끝난 후에는 사라진다.\n",
        "아래의 a_function은 입력되는 parameter와 출력되는 return 값이 없는 함수로 x와 y를 각각 print한다.\n",
        "```python\n",
        "x = 10 # global variable\n",
        "\n",
        "def a_function():\n",
        "    y = 5 # local variable\n",
        "    print(x) #global variable에 접근, 접근은 가능하지만 수정은 불가\n",
        "    print(y) #local variable에 접근\n",
        "\n",
        "a_function()\n",
        "print(x) #global variable에 접근\n",
        "print(y) #local variable에 접근 불가해 오류 발생\n",
        "```\n",
        "이 예시에서 x는 global 변수로 전체 프로그램에서 접근할 수 있지만 y는 a_function함수 내에서 선언된 local 변수로 함수가 call되어 실행 중에만 존재하는 변수로 함수 외부에서는 접근할 수 없는 것을 확인할 수 있다.  \n",
        "함수 내에서 global 변수에 접근하기 위해서는 함수 내에서 `global` keyword를 삽입하면 수정가능하다"
      ],
      "metadata": {
        "id": "Zah3QNpV9TiW"
      }
    },
    {
      "cell_type": "markdown",
      "source": [
        "ex 5-1) 리스트를 입력으로 받아 최대값을 반환하는 함수를 정의하라"
      ],
      "metadata": {
        "id": "xNmpXZJWVNYB"
      }
    },
    {
      "cell_type": "code",
      "source": [
        "def find_max(l):\n",
        "    max = l[0]\n",
        "    for element in l[1:]:\n",
        "        if max < element:\n",
        "            max = element\n",
        "    return max\n",
        "print(find_max([1,2,3,4,4,4,5,7,76,65]))"
      ],
      "metadata": {
        "id": "yBxhEyEZU1sx"
      },
      "execution_count": null,
      "outputs": []
    },
    {
      "cell_type": "markdown",
      "source": [
        "ex 5-2) 특정 범위를 벗어난 값을 입력받으면 'High', 'Low'를 반환하고, 범위 내의 값을 입력 받으면 'Normal'을 반환하는 함수 `check`을 작성하라.\n",
        "\n",
        "High, Low의 기준값 `H`와 `L`은 함수 밖에 전역 변수로 정의되고 함수는 하나의 숫자를 입력으로 받는다."
      ],
      "metadata": {
        "id": "ZFrRr1rJWyN3"
      }
    },
    {
      "cell_type": "code",
      "source": [
        "H = 70\n",
        "L = 40\n",
        "\n",
        "def check(x):\n",
        "    if x > H:\n",
        "        result = 'High'\n",
        "    elif x<L:\n",
        "        result = 'Low'\n",
        "    else:\n",
        "        result = 'Normal'\n",
        "    return result\n",
        "\n",
        "while(1):\n",
        "    x = input()\n",
        "    if x == 'stop':\n",
        "        break\n",
        "    print(check(int(x)))"
      ],
      "metadata": {
        "id": "WYXWLdUGV_jx"
      },
      "execution_count": null,
      "outputs": []
    },
    {
      "cell_type": "markdown",
      "source": [
        "ex 5-3) 정상 상태에서 알람 발생 기준(high/low)을 넘어가는 최초 시점에만 알람을 발생 시키는 함수 `alarm`을 작성하라. 위의 `check`함수를 활용한다.\n",
        "\n",
        "bool 타입의 is_L, is_H 변수를 사용해 알람 발생 여부를 기록하는 방식으로 작성하라."
      ],
      "metadata": {
        "id": "61wrosbMHk98"
      }
    },
    {
      "cell_type": "code",
      "source": [
        "H = 7\n",
        "L = 4\n",
        "is_H = False\n",
        "is_L = False\n",
        "\n",
        "def check(x):\n",
        "    if x > H:\n",
        "        result = 'High'\n",
        "    elif x<L:\n",
        "        result = 'Low'\n",
        "    else:\n",
        "        result = 'Normal'\n",
        "    return result\n",
        "\n",
        "def alarm(x):\n",
        "    global is_H, is_L\n",
        "    status = check(x)\n",
        "    if status == 'Normal':\n",
        "        is_H, is_L = False, False\n",
        "    elif status == 'High':\n",
        "        is_L = False\n",
        "        if not is_H:\n",
        "            is_H = True\n",
        "            return \"High alarm\"\n",
        "    elif status == 'Low':\n",
        "        is_H = False\n",
        "        if not is_L:\n",
        "            is_L = True\n",
        "            return \"Low alarm\"\n",
        "\n",
        "while(1):\n",
        "    x = input()\n",
        "    if x == 'stop':\n",
        "        break\n",
        "    print(alarm(int(x)))"
      ],
      "metadata": {
        "id": "FlbnkZVlHWKt"
      },
      "execution_count": null,
      "outputs": []
    },
    {
      "cell_type": "markdown",
      "source": [
        "ex 5-4) 위에서 작성한 check와 alarm을 재사용할 수 있도록 재작성하라.  \n",
        "H, L, is_H, is_L 변수를 입력으로 받을 수 있도록 함수를 구성."
      ],
      "metadata": {
        "id": "T3KgsryxM1HU"
      }
    },
    {
      "cell_type": "code",
      "source": [
        "def check(x, H, L):\n",
        "    if x > H:\n",
        "        result = 'High'\n",
        "    elif x<L:\n",
        "        result = 'Low'\n",
        "    else:\n",
        "        result = 'Normal'\n",
        "    return result\n",
        "\n",
        "def alarm(x, H, L, is_H, is_L):\n",
        "    status = check(x, H, L)\n",
        "    alm = None\n",
        "    if status == 'Normal':\n",
        "        is_H, is_L = False, False\n",
        "    elif status == 'High':\n",
        "        is_L = False\n",
        "        if not is_H:\n",
        "            is_H = True\n",
        "            alm =  \"High alarm\"\n",
        "    elif status == 'Low':\n",
        "        is_H = False\n",
        "        if not is_L:\n",
        "            is_L = True\n",
        "            alm = \"Low alarm\"\n",
        "    return alm, is_H, is_L\n",
        "\n",
        "H1, L1 = 7, 4\n",
        "is_H1, is_L1 = False, False\n",
        "\n",
        "H2, L2 = 6, 3\n",
        "is_H2, is_L2 = False, False\n",
        "\n",
        "while(1):\n",
        "    x1, x2 = input(\"x1 x2 :\").split()\n",
        "    x1, x2 = int(x1), int(x2)\n",
        "    (alm1, is_H1, is_L1) = alarm(x1, H1, L1, is_H1, is_L1)\n",
        "    (alm2, is_H2, is_L2) = alarm(x2, H2, L2, is_H2, is_L2)\n",
        "    print(f\"x1 : {alm1}, x2 : {alm2}\")\n"
      ],
      "metadata": {
        "id": "vJ3X1dzWPhDj"
      },
      "execution_count": null,
      "outputs": []
    },
    {
      "cell_type": "markdown",
      "source": [
        "# 6. 클래스\n",
        "\n",
        "파이썬은 객체 지향(object-oriented) 프로그래밍 언어로 모든 것이 객체로 구성된다. class는 이러한 객체를 만드는 틀이라고 볼 수 있다. class는 데이터와 특정 행동을 모두 포함(encapsulate)하는데 이것은 함수만 사용하는 것에 비해 재사용성이 좋고, 현실의 많은 것들은 데이터와 기능이 함께 존재하기에 현실을 더 현실스럽게 모델링할 수 있다.  \n",
        "간단하게 클래스는 데이터와 함수를 포함하고 있는 제품이라고 생각할 수 있다.\n",
        "\n",
        "\n",
        "```python\n",
        "class Person: #1\n",
        "    def __init__(self, name, age): #2\n",
        "        self.name = name #3\n",
        "        self.age = age\n",
        "\n",
        "    def say_hello(self): #4\n",
        "        print(f\"Hello, my name is {self.name} and I'm {self.age} years old.\") #5\n",
        "```\n",
        "`__init__`은 class로부터 객체가 생성될 때 초기화되는 함수이고, 입력으로 받을 대상을 여기의 parameter로 정의한다.   \n",
        "class에서 method를 정의할 때 (#2, #4) 첫번째 paramter `self`는 class 자신을 가리키는 변수로 항상 입력해 주어야한다. 따라서 method의 입력되는 내용은 두 번째 파라미터부터다.  \n",
        "3) 부분은 객체 외부에서 입력된 name과 age를 객체의 attribute로 할당하는 부분이다. `self.`이 붙은 변수들은 모두 attribute가 되고 class의 모든 mehtod에서 접근 가능하다. #5를 보면 다른 method에서 `__init__`에서 정의된 self.name과 self.age에 접근할 수 있는 것을 확인할 수 있다.\n",
        "\n",
        "```python\n",
        "p = Person(\"LHC\", 30)\n",
        "print(p.name) # output : LHC\n",
        "print(p.age)  # output : 30\n",
        "\n",
        "p.say_hello() # output : Hello, my name is LHC and I'm 30 years old.\n",
        "```\n",
        "\n",
        "이렇게 `Person` class를 정의해놓으면 같은 틀의 구조를 쉽게 여러개 만들 수 있고, 추후에 수정할 때 class의 내용만 수정하면 되기 때문에 유지보수도 편리하다."
      ],
      "metadata": {
        "id": "z7cNZoCFMRpX"
      }
    },
    {
      "cell_type": "markdown",
      "source": [
        "ex 6-1) 예제 5-1에서 만들었던 알람 발생 함수를 `Alarm` class로 만들어라. class의 attribute는 알람 설정값, 알람 발생 여부 flag를 포함한다."
      ],
      "metadata": {
        "id": "FyiUD30fN-tz"
      }
    },
    {
      "cell_type": "code",
      "source": [
        "class Alarm:\n",
        "    def __init__(self, H, L):\n",
        "        self.H = H\n",
        "        self.L = L\n",
        "        self.is_H = False\n",
        "        self.is_L = False\n",
        "\n",
        "    def check(self,x):\n",
        "        if x > self.H:\n",
        "            result = 'High'\n",
        "        elif x<self.L:\n",
        "            result = 'Low'\n",
        "        else:\n",
        "            result = 'Normal'\n",
        "        return result\n",
        "\n",
        "    def alarm(self,x):\n",
        "        status = self.check(x)\n",
        "        if status == 'Normal':\n",
        "            self.is_H, self.is_L = False, False\n",
        "        elif status == 'High':\n",
        "            self.is_L = False\n",
        "            if not self.is_H:\n",
        "                self.is_H = True\n",
        "                return \"High alarm\"\n",
        "        elif status == 'Low':\n",
        "            self.is_H = False\n",
        "            if not self.is_L:\n",
        "                self.is_L = True\n",
        "                return \"Low alarm\""
      ],
      "metadata": {
        "id": "yWBJl0pqN99s"
      },
      "execution_count": null,
      "outputs": []
    },
    {
      "cell_type": "markdown",
      "source": [
        "ex 6-2) 예제 5-3에서 함수를 사용해 구현했던 프로그램을 클래스를 사용해 구현하라.\n"
      ],
      "metadata": {
        "id": "6A1vTz6tO7FT"
      }
    },
    {
      "cell_type": "code",
      "source": [
        "ob_1 =Alarm(7, 4)\n",
        "ob_2 =Alarm(6, 3)\n",
        "\n",
        "while (1):\n",
        "    x1, x2 = map(int, input().split())\n",
        "    print(ob_1.alarm(x1))\n",
        "    print(ob_2.alarm(x2))    "
      ],
      "metadata": {
        "id": "DBHzhz5cLsRk"
      },
      "execution_count": null,
      "outputs": []
    },
    {
      "cell_type": "markdown",
      "source": [
        "---\n",
        "## 연습문제 1 : UP DOWN 프로그램 만들기\n",
        "\n",
        "프로그램에서 0~10 사이에서 랜덤하게 생성된 수(정답)를 up, down으로 맞추는 프로그램을 만든다. 정답보다 큰 수를 입력하면 'Up'을 출력, 작은 수를 입력하면 'Down'을 출력한다. 정답을 맞춘 경우에는 'Answer'와 함께 시도한 횟수를 출력한다.\n",
        "\n",
        "첫번째 입력으로 기회의 수 N을 입력으로 받고, N번 내에 정답을 맞추지 못한 경우 'Fail'을 출력한다.\n",
        "\n",
        "사용 라이브러리 : random"
      ],
      "metadata": {
        "id": "AJkuV0a0X-if"
      }
    },
    {
      "cell_type": "code",
      "source": [
        "import random\n",
        "\n",
        "ans = random.randint(0,10)\n",
        "N = int(input('N : '))\n",
        "\n",
        "for i in range(1,N+1):\n",
        "    number = int(input(\"Guess : \"))\n",
        "    if number > ans:\n",
        "        print(\"Up\")\n",
        "    elif number < ans:\n",
        "        print(\"Donw\")\n",
        "    else :\n",
        "        print(f\"Answer, {i} try\")\n",
        "        break"
      ],
      "metadata": {
        "id": "m7jbpC2YSlqF"
      },
      "execution_count": null,
      "outputs": []
    },
    {
      "cell_type": "markdown",
      "source": [
        "## 연습문제 2 : 특정 조건을 만족하는 List의 좌표 찾기\n",
        "아래와 같은 형태의 2차원 List를 입력으로 받아 7 이상의 값을 가지는 위치의 cell의 좌표의 list를 반환하는 함수를 작성해라. 단, 주어진 List의 모든 행의 열의 수는 동일하다. 좌표의 기준은 (행, 열)이고 좌측 상단은 (1,1)로 한다. 예를 들어, 2의 좌표는 (1,2)다.  \n",
        "\n",
        "```python\n",
        "example_list = [[1,2,3],\n",
        "                [4,5,6],\n",
        "                [7,8,9]]\n",
        "```\n",
        "\n",
        "아래의 코드에서 `your_function`을 채워라 \n",
        "```python\n",
        "import random\n",
        "r,c = random.sample(range(2, 5), 2)\n",
        "test_list = [random.sample(range(0,10), c) for _ in range(r)]\n",
        "\n",
        "def your_function(input_list):\n",
        "    coordinate = []\n",
        "    # your code\n",
        "    return coordinate\n",
        "\n",
        "print('test_list는 ...')\n",
        "for i in test_list : print(i)\n",
        "\n",
        "print('7 이상의 좌표는 ...')\n",
        "for i in your_function(test_list) : print(i)\n",
        "```"
      ],
      "metadata": {
        "id": "Tf3rwuC6YMEp"
      }
    },
    {
      "cell_type": "code",
      "source": [
        "import random\n",
        "r,c = random.sample(range(2, 5), 2)\n",
        "test_list = [random.sample(range(0,10), c) for _ in range(r)]\n",
        "\n",
        "def your_function(input_list):\n",
        "    coordinate = []\n",
        "    num_rows = len(input_list)\n",
        "    num_columns = len(input_list[0])\n",
        "    for r in range(num_rows):\n",
        "        for c in range(num_columns):\n",
        "            if input_list[r][c] >= 7:\n",
        "                coordinate.append((r+1,c+1))\n",
        "\n",
        "    return coordinate\n",
        "\n",
        "print('test_list는 ...')\n",
        "for i in test_list : print(i)\n",
        "\n",
        "print('7 이상의 좌표는 ...')\n",
        "for i in your_function(test_list) : print(i)"
      ],
      "metadata": {
        "id": "n0gOsFmwYI01"
      },
      "execution_count": null,
      "outputs": []
    },
    {
      "cell_type": "code",
      "source": [],
      "metadata": {
        "id": "ccLdCnzmavBg"
      },
      "execution_count": null,
      "outputs": []
    }
  ]
}